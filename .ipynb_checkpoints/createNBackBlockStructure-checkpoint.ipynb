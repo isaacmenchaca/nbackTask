{
 "cells": [
  {
   "cell_type": "code",
   "execution_count": 17,
   "id": "0c23b2c4",
   "metadata": {},
   "outputs": [],
   "source": [
    "import numpy as np"
   ]
  },
  {
   "cell_type": "markdown",
   "id": "75a8a28a",
   "metadata": {},
   "source": [
    "where these circles get placed"
   ]
  },
  {
   "cell_type": "code",
   "execution_count": 171,
   "id": "ea412f74",
   "metadata": {},
   "outputs": [
    {
     "data": {
      "text/plain": [
       "[[125, 0],\n",
       " [88, 88],\n",
       " [0, 125],\n",
       " [-88, 88],\n",
       " [-125, 0],\n",
       " [-88, -88],\n",
       " [0, -125],\n",
       " [88, -88]]"
      ]
     },
     "execution_count": 171,
     "metadata": {},
     "output_type": "execute_result"
    }
   ],
   "source": [
    "def generateCircle(numberOfItems, pixelSpace):\n",
    "    r = 125                                 # An arbitrary value for the radius\n",
    "\n",
    "    angle = np.linspace(0, 2*np.pi, numberOfItems) # A vector covering all angles from\n",
    "                                          # 0 to 2*pi (the full circle in radians) \n",
    "                                          # with an arbitrary number of \n",
    "                                          # elements, 1000 in this example\n",
    "    X = (np.cos(angle)*pixelSpace).astype(int)\n",
    "    Y = (np.sin(angle)*pixelSpace).astype(int)\n",
    "\n",
    "    circlePosCoords = [[x, y] for x, y in zip(X, Y)]\n",
    "    \n",
    "    return circlePosCoords\n",
    "\n",
    "circlePosGrid = generateCircle(numberOfItems=9, pixelSpace=125)[:-1]\n",
    "circlePosGrid"
   ]
  },
  {
   "cell_type": "markdown",
   "id": "b8cac611",
   "metadata": {},
   "source": [
    "lets say 30 total items in a stream\n",
    "\n",
    "at least 300 presentation and 700 for response. or 500 ms and 500 ms is fine too.\n",
    "\n",
    "30 stimuli, 7 targets. 30 second block, 10 second rest. get a response for every one.\n",
    "\n",
    "3 levels of nback. 1, 2, 3\n",
    "\n",
    "how many blocks? 10 repetitions of each level."
   ]
  },
  {
   "cell_type": "markdown",
   "id": "afdc3423",
   "metadata": {},
   "source": [
    "pseudo-code:\n",
    "\n",
    "arrayHistory = []\n",
    "\n",
    "if it is non taget next: get arrayHistory[-level] and attempt to not get it up.\n",
    "if it is target next: get arrayHistory[-level] and repeat the value. \n",
    "    "
   ]
  },
  {
   "cell_type": "code",
   "execution_count": 185,
   "id": "0f2f38a9",
   "metadata": {},
   "outputs": [],
   "source": [
    "def createBlockStimLabels(level, possible_stimuli, numItemsPerTrial = 30, targetProbability = .25):\n",
    "#     level = 2\n",
    "#     possible_stimuli = circlePosGrid  # Set the possible stimuli\n",
    "    \n",
    "    possible_stimuli_indx = np.arange(0, 7, 1)\n",
    "\n",
    "\n",
    "    totalNumTargets = int(numItemsPerTrial * targetProbability)\n",
    "#     print(totalNumTargets)\n",
    "\n",
    "    stimTargetLabeling = np.ones(totalNumTargets)\n",
    "    stimNonTargetLabeling = np.zeros(numItemsPerTrial - totalNumTargets)\n",
    "\n",
    "    stimLabels = np.concatenate([stimTargetLabeling, stimNonTargetLabeling[level:]])\n",
    "\n",
    "#     rng = np.random.default_rng(0) # pseudo-random for participant in case of error.\n",
    "#     rng.shuffle(stimLabels) \n",
    "    \n",
    "    stimLabels = np.random.permutation(stimLabels)\n",
    "\n",
    "    stimLabels = np.concatenate([stimNonTargetLabeling[:level] ,stimLabels ])\n",
    "\n",
    "    arrayHistory = []\n",
    "    for i in range(len(stimLabels)):\n",
    "\n",
    "        if i < level:\n",
    "            random_indx = np.random.choice(possible_stimuli_indx)\n",
    "#             print(random_indx, possible_stimuli[random_indx])\n",
    "            arrayHistory.append(possible_stimuli[random_indx])\n",
    "        elif stimLabels[i] == 0:\n",
    "#             print('NonTarget')\n",
    "\n",
    "            while True:\n",
    "                random_indx = np.random.choice(possible_stimuli_indx)\n",
    "                if possible_stimuli[random_indx] != arrayHistory[-level]:\n",
    "#                     print(random_indx, possible_stimuli[random_indx])\n",
    "                    arrayHistory.append(possible_stimuli[random_indx])\n",
    "                    break\n",
    "\n",
    "        elif  stimLabels[i] == 1:\n",
    "#             print('Target')\n",
    "#             print(arrayHistory[-level])\n",
    "            arrayHistory.append(arrayHistory[-level])\n",
    "            \n",
    "            \n",
    "    return stimLabels, np.asarray(arrayHistory)\n",
    "\n",
    "\n",
    "def createBlocks(possible_stimuli, levels = [1, 2, 4], numTrials = 10, numItemsPerTrial = 30):\n",
    "    experimentBlocksStim = np.zeros([len(levels), numTrials, numItemsPerTrial, 2])\n",
    "    experimentBlocksLabels = np.zeros([len(levels), numTrials, numItemsPerTrial])\n",
    "    \n",
    "    for i, level in enumerate(levels):\n",
    "        for j in range(numTrials):\n",
    "#             print(level, i)\n",
    "            stimLabels, stimValues = createBlockStimLabels(level = level, possible_stimuli = possible_stimuli)\n",
    "            experimentBlocksStim[i, j, :, :] = stimValues\n",
    "            experimentBlocksLabels[i, j, :] = stimLabels\n",
    "\n",
    "    return experimentBlocksStim, experimentBlocksLabels\n",
    "#     stimLabels, stimValues = createBlockStimLabels(level = 4, possible_stimuli = possible_stimuli)\n",
    "# stimLabels"
   ]
  },
  {
   "cell_type": "code",
   "execution_count": 186,
   "id": "29a844e0",
   "metadata": {},
   "outputs": [],
   "source": [
    "experimentBlocksStim, experimentBlocksLabels = createBlocks(possible_stimuli = circlePosGrid)"
   ]
  },
  {
   "cell_type": "code",
   "execution_count": 187,
   "id": "e1f480b8",
   "metadata": {},
   "outputs": [
    {
     "name": "stdout",
     "output_type": "stream",
     "text": [
      "(3, 10, 30, 2) (3, 10, 30)\n"
     ]
    }
   ],
   "source": [
    "print(experimentBlocksStim.shape, experimentBlocksLabels.shape)"
   ]
  },
  {
   "cell_type": "markdown",
   "id": "105d49bb",
   "metadata": {},
   "source": [
    "Test if all looks good here, then save."
   ]
  },
  {
   "cell_type": "code",
   "execution_count": 191,
   "id": "b94948c6",
   "metadata": {},
   "outputs": [
    {
     "name": "stdout",
     "output_type": "stream",
     "text": [
      "0.0 [   0. -125.]\n",
      "0.0 [  0. 125.]\n",
      "0.0 [88. 88.]\n",
      "0.0 [   0. -125.]\n",
      "0.0 [-88.  88.]\n",
      "1.0 [  0. 125.]\n",
      "0.0 [-88. -88.]\n",
      "0.0 [-88.  88.]\n",
      "1.0 [-88.  88.]\n",
      "0.0 [125.   0.]\n",
      "0.0 [  0. 125.]\n",
      "0.0 [-88. -88.]\n",
      "0.0 [  0. 125.]\n",
      "0.0 [   0. -125.]\n",
      "0.0 [88. 88.]\n",
      "0.0 [125.   0.]\n",
      "1.0 [  0. 125.]\n",
      "0.0 [-125.    0.]\n",
      "0.0 [   0. -125.]\n",
      "0.0 [88. 88.]\n",
      "1.0 [  0. 125.]\n",
      "0.0 [125.   0.]\n",
      "0.0 [-88.  88.]\n",
      "1.0 [88. 88.]\n",
      "0.0 [-125.    0.]\n",
      "0.0 [-125.    0.]\n",
      "1.0 [-88.  88.]\n",
      "1.0 [88. 88.]\n",
      "0.0 [125.   0.]\n",
      "0.0 [-88.  88.]\n"
     ]
    }
   ],
   "source": [
    "for label, coord in zip(experimentBlocksLabels[2, 0, :], experimentBlocksStim[2, 0, :, :]):\n",
    "    print(label, coord)"
   ]
  },
  {
   "cell_type": "code",
   "execution_count": null,
   "id": "b5143c2c",
   "metadata": {},
   "outputs": [],
   "source": []
  }
 ],
 "metadata": {
  "kernelspec": {
   "display_name": "Python 3 (ipykernel)",
   "language": "python",
   "name": "python3"
  },
  "language_info": {
   "codemirror_mode": {
    "name": "ipython",
    "version": 3
   },
   "file_extension": ".py",
   "mimetype": "text/x-python",
   "name": "python",
   "nbconvert_exporter": "python",
   "pygments_lexer": "ipython3",
   "version": "3.9.7"
  }
 },
 "nbformat": 4,
 "nbformat_minor": 5
}
